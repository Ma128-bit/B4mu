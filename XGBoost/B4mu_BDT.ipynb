{
 "cells": [
  {
   "cell_type": "code",
   "execution_count": 1,
   "id": "fab45d2a-2135-459f-bd2d-8789a673c9fe",
   "metadata": {},
   "outputs": [],
   "source": [
    "import sys, os, subprocess, json, pickle, uproot, math\n",
    "import numpy as np\n",
    "import pandas as pd\n",
    "import awkward as ak\n",
    "from datetime import datetime\n",
    "from tqdm import tqdm\n",
    "from xgboost import XGBRegressor, XGBClassifier, plot_importance\n",
    "import mplhep as hep\n",
    "\n",
    "from matplotlib import pyplot as plt\n",
    "import plotly.graph_objects as go"
   ]
  },
  {
   "cell_type": "raw",
   "id": "bf279c62-2ba0-48bf-82bb-d404daa6413a",
   "metadata": {},
   "source": [
    "# set custom functions\n",
    "plt.rcParams['axes.linewidth'] = 1.4\n",
    "plt.rcParams['xtick.direction'] = 'in'\n",
    "plt.rcParams['ytick.direction'] = 'in'\n",
    "plt.rcParams['ytick.minor.size'] = 2.5\n",
    "plt.rcParams['xtick.minor.size'] = 4.0\n",
    "plt.rcParams['ytick.minor.visible'] = True\n",
    "plt.rcParams['ytick.labelsize'] = 'large'\n",
    "plt.rcParams['xtick.labelsize'] = 'large'"
   ]
  },
  {
   "cell_type": "code",
   "execution_count": 2,
   "id": "99ba2784-37ad-493a-a4b1-4824be5e11c5",
   "metadata": {},
   "outputs": [],
   "source": [
    "def get_arrays(tree, branch_list):\n",
    "    _dict = {}\n",
    "    for _br in branch_list:\n",
    "        _dict[_br] = getattr(tree[_br].arrays(), _br)\n",
    "    return pd.DataFrame.from_dict(_dict)\n",
    "\n",
    "def get_input_features(df, train_list, cuts=''):\n",
    "    if cuts=='': return df[train_list].to_numpy()\n",
    "    _df = df[df.eval(cuts)]\n",
    "    return _df[train_list].to_numpy()\n",
    "\n",
    "def plot_training_history(model, category, fold, metric):    \n",
    "    results = model.evals_result()\n",
    "    epochs = len(results['validation_0'][metric])\n",
    "    x_axis = range(0, epochs)\n",
    "    fig, ax = plt.subplots(figsize=(6.6,4.4))\n",
    "    ax.plot(x_axis, results['validation_0'][metric], label='Train')\n",
    "    ax.plot(x_axis, results['validation_1'][metric], label='Test')\n",
    "    ax.legend(fontsize=14)\n",
    "    plt.ylabel(metric, fontsize=14)\n",
    "    plt.xlabel('Epoch', fontsize=14)\n",
    "    plt.title('{} (iFold={})'.format(category, fold), fontsize=16)\n",
    "    plt.show()\n",
    "    fig.savefig(out_dir+\"/AUC_plot_\"+category+\"fold_\"+str(fold)+\".png\")\n",
    "\n",
    "def load_pkl(fname):\n",
    "    with open(fname, 'rb') as f:\n",
    "        obj = pickle.load(f)\n",
    "    return obj\n",
    "\n",
    "def get_parameters(json_file, cat):\n",
    "    \"\"\"Get parameters for XGBoost\"\"\"\n",
    "    parameters = json_file[\"xgb_parameters_\"+cat]\n",
    "    param = {}\n",
    "    for entry in parameters:\n",
    "        key = list(entry.keys())[0]\n",
    "        value = entry[key]\n",
    "        param[key] = value\n",
    "    return param"
   ]
  },
  {
   "cell_type": "code",
   "execution_count": 3,
   "id": "2fdff787-a033-4ca3-81ff-e75bfb7de129",
   "metadata": {},
   "outputs": [],
   "source": [
    "# Open config File\n",
    "config = \"config.json\"\n",
    "with open(config, 'r') as file:\n",
    "    json_file_temp = json.load(file)\n",
    "    \n",
    "output_folder = json_file_temp['output_folder']\n",
    "try:\n",
    "    label = json_file_temp['label']\n",
    "except KeyError:\n",
    "    label = \"\""
   ]
  },
  {
   "cell_type": "code",
   "execution_count": 4,
   "id": "554dd30b-eec0-4d03-ac96-1c06c0dd4e67",
   "metadata": {},
   "outputs": [],
   "source": [
    "# Create new config File\n",
    "date = datetime.now().strftime(\"%Y%m%d-%H%M%S\")\n",
    "out_dir = output_folder+\"/\"+label+\"_\"+date\n",
    "if not os.path.exists(out_dir):\n",
    "    subprocess.call(\"mkdir -p %s\" % out_dir, shell=True)\n",
    "config_out = out_dir+\"/config.json\"\n",
    "json_file_temp[\"date\"] = date\n",
    "with open(config_out, 'w') as file:\n",
    "    json.dump(json_file_temp, file, indent=2)"
   ]
  },
  {
   "cell_type": "code",
   "execution_count": 5,
   "id": "4d3a4fd8-d427-41c4-aff9-274fc676fe89",
   "metadata": {},
   "outputs": [],
   "source": [
    "# Open new config File\n",
    "with open(config_out, 'r') as file:\n",
    "    json_file = json.load(file)\n",
    "\n",
    "categories_list = json_file[\"categories\"]\n",
    "param = []\n",
    "for c in categories_list:\n",
    "    param_temp = get_parameters(json_file, c)\n",
    "    param.append(param_temp)"
   ]
  },
  {
   "cell_type": "code",
   "execution_count": 6,
   "id": "df892b02-2629-49a2-97e7-44b90b3f2c42",
   "metadata": {},
   "outputs": [
    {
     "name": "stdout",
     "output_type": "stream",
     "text": [
      "Loading data from  ../Utilities_organized/ROOTFiles_mySel/AllData2022.root\n",
      "Loading data from  ../Utilities_organized/ROOTFiles_mySel/AllData2023.root\n"
     ]
    }
   ],
   "source": [
    "# load data\n",
    "input_files = json_file['input_files']\n",
    "training_variables = json_file['training_variables']\n",
    "spectator_variables = json_file['spectator_variables']\n",
    "tree_name = json_file['tree_name']\n",
    "final_cut = json_file['final_cut']\n",
    "dfs = []\n",
    "for file in input_files:\n",
    "    print(\"Loading data from \", file)\n",
    "    file_temp = uproot.open(file)\n",
    "    df_temp = get_arrays(file_temp[tree_name], training_variables+spectator_variables)\n",
    "    dfs.append(df_temp)\n",
    "df = pd.concat(dfs)\n",
    "df = df.reset_index(drop=True)\n",
    "del dfs"
   ]
  },
  {
   "cell_type": "code",
   "execution_count": 7,
   "id": "b61c809e-b5ea-4470-93a7-23eb2b0732a8",
   "metadata": {},
   "outputs": [
    {
     "name": "stdout",
     "output_type": "stream",
     "text": [
      "[1 0 2]\n",
      "[1 0 2]\n"
     ]
    }
   ],
   "source": [
    "print(df['isMC'].unique())\n",
    "df['isMC'] = df['isMC'].clip(lower=0)\n",
    "print(df['isMC'].unique())"
   ]
  },
  {
   "cell_type": "code",
   "execution_count": 8,
   "id": "a9b01ff4-4c53-41eb-a569-31e27fa83c5c",
   "metadata": {},
   "outputs": [
    {
     "name": "stdout",
     "output_type": "stream",
     "text": [
      "['Cat']\n"
     ]
    },
    {
     "ename": "SyntaxError",
     "evalue": "Python keyword not valid identifier in numexpr query (<unknown>, line 1)",
     "output_type": "error",
     "traceback": [
      "Traceback \u001b[0;36m(most recent call last)\u001b[0m:\n",
      "\u001b[0m  File \u001b[1;32m~/miniconda3/envs/xgb09/lib/python3.9/site-packages/IPython/core/interactiveshell.py:3550\u001b[0m in \u001b[1;35mrun_code\u001b[0m\n    exec(code_obj, self.user_global_ns, self.user_ns)\u001b[0m\n",
      "\u001b[0m  Cell \u001b[1;32mIn[8], line 22\u001b[0m\n    X_bkg_temp = get_input_features(df, training_variables, bkg_sel)\u001b[0m\n",
      "\u001b[0m  Cell \u001b[1;32mIn[2], line 9\u001b[0m in \u001b[1;35mget_input_features\u001b[0m\n    _df = df[df.eval(cuts)]\u001b[0m\n",
      "\u001b[0m  File \u001b[1;32m~/miniconda3/envs/xgb09/lib/python3.9/site-packages/pandas/core/frame.py:4949\u001b[0m in \u001b[1;35meval\u001b[0m\n    return _eval(expr, inplace=inplace, **kwargs)\u001b[0m\n",
      "\u001b[0m  File \u001b[1;32m~/miniconda3/envs/xgb09/lib/python3.9/site-packages/pandas/core/computation/eval.py:336\u001b[0m in \u001b[1;35meval\u001b[0m\n    parsed_expr = Expr(expr, engine=engine, parser=parser, env=env)\u001b[0m\n",
      "\u001b[0m  File \u001b[1;32m~/miniconda3/envs/xgb09/lib/python3.9/site-packages/pandas/core/computation/expr.py:809\u001b[0m in \u001b[1;35m__init__\u001b[0m\n    self.terms = self.parse()\u001b[0m\n",
      "\u001b[0m  File \u001b[1;32m~/miniconda3/envs/xgb09/lib/python3.9/site-packages/pandas/core/computation/expr.py:828\u001b[0m in \u001b[1;35mparse\u001b[0m\n    return self._visitor.visit(self.expr)\u001b[0m\n",
      "\u001b[0m  File \u001b[1;32m~/miniconda3/envs/xgb09/lib/python3.9/site-packages/pandas/core/computation/expr.py:408\u001b[0m in \u001b[1;35mvisit\u001b[0m\n    raise e\u001b[0m\n",
      "\u001b[0m  File \u001b[1;32m~/miniconda3/envs/xgb09/lib/python3.9/site-packages/pandas/core/computation/expr.py:404\u001b[0m in \u001b[1;35mvisit\u001b[0m\n    node = ast.fix_missing_locations(ast.parse(clean))\u001b[0m\n",
      "\u001b[0;36m  File \u001b[0;32m~/miniconda3/envs/xgb09/lib/python3.9/ast.py:50\u001b[0;36m in \u001b[0;35mparse\u001b[0;36m\n\u001b[0;31m    return compile(source, filename, mode, flags,\u001b[0;36m\n",
      "\u001b[0;36m  File \u001b[0;32m<unknown>:1\u001b[0;36m\u001b[0m\n\u001b[0;31m    isMC ==0 and abs (Quadruplet_Mass -5.366 )>0.2 and abs (Quadruplet_Mass -5.277 )>0.2 JPsicut ==1 and and Phicut ==1 and and Omegacut ==1 and and Psi2scut ==1\u001b[0m\n\u001b[0m                                                                                         ^\u001b[0m\n\u001b[0;31mSyntaxError\u001b[0m\u001b[0;31m:\u001b[0m Python keyword not valid identifier in numexpr query\n"
     ]
    }
   ],
   "source": [
    "index_branch = [json_file['index_branch']]\n",
    "kFolds = json_file['number_of_splits']\n",
    "try:\n",
    "    weight_column = [json_file['weight_column']]\n",
    "except KeyError:\n",
    "    weight_column = None\n",
    "X_list = []\n",
    "y_list = []\n",
    "weight_train_list = []\n",
    "kfold_split_list = []\n",
    "\n",
    "print(categories_list)\n",
    "for cat in categories_list:\n",
    "    try:\n",
    "        bkg_sel = json_file[cat+\"_bkg\"]\n",
    "    except KeyError:\n",
    "        bkg_sel = \"\"\n",
    "    try:\n",
    "        sig_sel = json_file[cat+\"_sig\"]\n",
    "    except KeyError:\n",
    "        sig_sel = \"\"\n",
    "    X_bkg_temp = get_input_features(df, training_variables, bkg_sel)\n",
    "    X_sig_temp = get_input_features(df, training_variables, sig_sel)\n",
    "    \n",
    "    y_bkg_temp = np.zeros(len(X_bkg_temp))\n",
    "    y_sig_temp = np.ones(len(X_sig_temp))\n",
    "    \n",
    "    bkg_eventNumber = get_input_features(df, index_branch, bkg_sel)\n",
    "    sig_eventNumber = get_input_features(df, index_branch, sig_sel)\n",
    "\n",
    "    if weight_column is not None:\n",
    "        W_bkg_temp = get_input_features(df, weight_column, bkg_sel)\n",
    "        W_sig_temp = get_input_features(df, weight_column, sig_sel)\n",
    "        \n",
    "        weight_train_list.append(np.concatenate((W_bkg_temp, W_sig_temp)))\n",
    "\n",
    "    X_list.append(np.concatenate((X_bkg_temp, X_sig_temp)))\n",
    "    y_list.append(np.concatenate((y_bkg_temp, y_sig_temp)))\n",
    "    kfold_split_list.append(np.concatenate((bkg_eventNumber % kFolds, sig_eventNumber % kFolds)))\n"
   ]
  },
  {
   "cell_type": "code",
   "execution_count": null,
   "id": "bb55c89a-a3dd-484f-9265-802475d1e113",
   "metadata": {},
   "outputs": [],
   "source": [
    "xgbcvclassifiers = {cat: [] for cat in categories_list}\n",
    "print(xgbcvclassifiers)"
   ]
  },
  {
   "cell_type": "code",
   "execution_count": null,
   "id": "13c5a2f1-e8a6-4288-b144-090bbf57d82c",
   "metadata": {},
   "outputs": [],
   "source": [
    "# fit models \n",
    "number_of_training = kFolds*len(categories_list)\n",
    "with tqdm(total=number_of_training, desc=\"Training... \", bar_format=\"{desc}: {percentage:.0f}%|{bar:80}| {n}/{total} \") as progress_bar:\n",
    "    for catID in range(len(categories_list)):\n",
    "        for ifold in range(kFolds):\n",
    "            X_train = X_list[catID][kfold_split_list[catID].flatten()!=ifold,:]\n",
    "            Y_train = y_list[catID][kfold_split_list[catID].flatten()!=ifold]\n",
    "            if weight_column is not None: \n",
    "                weights_train = weight_train_list[catID][kfold_split_list[catID].flatten()!=ifold]\n",
    "            \n",
    "            X_test = X_list[catID][kfold_split_list[catID].flatten()==ifold,:]\n",
    "            Y_test = y_list[catID][kfold_split_list[catID].flatten()==ifold]\n",
    "            \n",
    "            model = XGBRegressor(**param[catID])\n",
    "            #model = XGBClassifier(**param[catID])\n",
    "\n",
    "            if weight_column is not None:\n",
    "                history = model.fit(X_train, Y_train,\n",
    "                                    verbose               = 0,\n",
    "                                    sample_weight = weights_train,\n",
    "                                    eval_set=[(X_train, Y_train), (X_test, Y_test)]\n",
    "                                   )\n",
    "            else:\n",
    "                history = model.fit(X_train, Y_train,\n",
    "                                    verbose               = 0,\n",
    "                                    eval_set=[(X_train, Y_train), (X_test, Y_test)]\n",
    "                                   )\n",
    "            \n",
    "            xgbcvclassifiers[categories_list[catID]].append((model, history))\n",
    "            #save model\n",
    "            pickle.dump(model, open(out_dir+\"/model_\"+categories_list[catID]+\"_fold\"+str(ifold)+\".pkl\", \"wb\"))\n",
    "            progress_bar.update(1)"
   ]
  },
  {
   "cell_type": "code",
   "execution_count": null,
   "id": "db3dabfe-3219-4160-8de0-e9be8205ca25",
   "metadata": {},
   "outputs": [],
   "source": [
    "df[\"kfoldID\"] = (df[index_branch] % kFolds).astype(int)\n",
    "all_input_X = get_input_features(df, training_variables, '')\n",
    "try:\n",
    "    category_branch = json_file[\"category_branch\"]\n",
    "except KeyError:\n",
    "    category_branch = \"NO_category_temp\"\n",
    "\n",
    "if(len(categories_list)==1 and category_branch == \"NO_category_temp\"):\n",
    "    df[category_branch] = 0\n",
    "\n",
    "bdt_scores = (df[category_branch]==0).to_numpy()*(0.0)\n",
    "bdt_cv_scores = (df[category_branch]==0).to_numpy()*(0.0)\n",
    "folds = []\n",
    "for k in range(kFolds):\n",
    "    folds.append((df[category_branch]==0).to_numpy()*(0.0))\n",
    "    \n",
    "for ic, category_ in enumerate(xgbcvclassifiers):\n",
    "    for fold_ in range(kFolds):\n",
    "        all_tmpscores = xgbcvclassifiers[category_][fold_][0].predict(all_input_X)\n",
    "        #all_tmpscores = xgbcvclassifiers[category_][fold_][0].predict_proba(all_input_X)[:, 1]\n",
    "        bdt_scores += ((df[category_branch]==(ic)).to_numpy()*all_tmpscores)/kFolds\n",
    "        folds[fold_] += (df[category_branch]==(ic)).to_numpy()*all_tmpscores \n",
    "        bdt_cv_scores += ((df[category_branch]==(ic)) & (df[\"kfoldID\"]==(fold_)) ).to_numpy()*all_tmpscores \n",
    "\n",
    "df['bdt'] = bdt_scores\n",
    "df['bdt_cv'] = bdt_cv_scores\n",
    "bdt_folds = []\n",
    "for k in range(kFolds):\n",
    "    branch_name_temp = f\"bdt_fold{k}\"\n",
    "    bdt_folds.append(branch_name_temp)\n",
    "    df[branch_name_temp] = folds[k]"
   ]
  },
  {
   "cell_type": "code",
   "execution_count": null,
   "id": "2fbc326a-4805-444f-8008-38544e7e194d",
   "metadata": {},
   "outputs": [],
   "source": [
    "df['bdt_cv_2'] = 1 - np.log2(2 -(1 - np.log2(2 -(1 - np.log2(2 -(1 - np.log2(2 - (1 - np.log2(2 - (1 - np.log2(2 - (1 - np.log2(2 - df['bdt_cv'])))))))))))))\n",
    "df = df[df.eval(final_cut)]"
   ]
  },
  {
   "cell_type": "code",
   "execution_count": null,
   "id": "125301de-5641-4164-9ee9-bddcd037d1a4",
   "metadata": {
    "scrolled": true
   },
   "outputs": [],
   "source": [
    "#fileName = out_dir+\"/TrainedDataset_\"+date\n",
    "#df.to_csv(fileName+\".csv\", index=False)"
   ]
  },
  {
   "cell_type": "code",
   "execution_count": null,
   "id": "71d6800c-d7ee-43e7-9cc4-303dc0d32b8f",
   "metadata": {
    "scrolled": true
   },
   "outputs": [],
   "source": [
    "#from ROOT import RDF\n",
    "#rdf = RDF.FromCSV(fileName+\"_2022.csv\")\n",
    "#rdf = RDF.MakeCsvDataFrame(fileName+\".csv\")\n",
    "#rdf.Snapshot(\"OutputTree\", fileName+\"_2022.root\")"
   ]
  },
  {
   "cell_type": "markdown",
   "id": "745fb436-94b4-40b0-bc4c-9745cf55c01a",
   "metadata": {},
   "source": [
    "## Plots:"
   ]
  },
  {
   "cell_type": "code",
   "execution_count": null,
   "id": "dbc66482-94c0-4788-9246-1e0914c7c0f9",
   "metadata": {
    "scrolled": true
   },
   "outputs": [],
   "source": [
    "for category_ in xgbcvclassifiers:\n",
    "    for fold_ in range(kFolds):\n",
    "        plot_training_history(xgbcvclassifiers[category_][fold_][0], category_, fold_+1, param[0][\"eval_metric\"])"
   ]
  },
  {
   "cell_type": "code",
   "execution_count": null,
   "id": "5bfa3570-e5ba-462d-97ba-b3de549374e7",
   "metadata": {},
   "outputs": [],
   "source": [
    "plt.style.use(hep.style.CMS)\n",
    "signal_sel = \"isMC>0\"\n",
    "bkg_sel = \"isMC==0 & (((Quadruplet_Mass-5.366)>0.2) | ((Quadruplet_Mass-5.277)<0.2))\""
   ]
  },
  {
   "cell_type": "code",
   "execution_count": null,
   "id": "bbfd62db-6de0-4e96-ad95-cf64e6acc6a8",
   "metadata": {},
   "outputs": [],
   "source": [
    "plt.figure(figsize=(15, 10))\n",
    "plt.yscale('log')\n",
    "hep.histplot(np.histogram(df[df.eval(signal_sel+\" & kfoldID != 0\")][\"bdt_fold0\"].to_numpy(), bins=50, range=(0,1)), density=True, histtype=\"fill\", label=\"Signal MC Train\", alpha=0.5, color='red');\n",
    "hep.histplot(np.histogram(df[df.eval(signal_sel+\" & kfoldID == 0\")][\"bdt_fold0\"].to_numpy(), bins=50, range=(0,1)), density=True, histtype=\"errorbar\", label=\"Signal MC Test\", alpha=0.5, color='red');\n",
    "hep.histplot(np.histogram(df[df.eval(bkg_sel+\" & kfoldID != 0\")][\"bdt_fold0\"].to_numpy(), bins=50, range=(0,1)), density=True, histtype=\"fill\", label=\"Data Sidebands Train \", alpha=0.5, color='blue');\n",
    "hep.histplot(np.histogram(df[df.eval(bkg_sel+\" & kfoldID == 0\")][\"bdt_fold0\"].to_numpy(), bins=50, range=(0,1)), density=True, histtype=\"errorbar\", label=\"Data Sidebands Test\", alpha=0.5, color='blue');\n",
    "plt.xlabel(\"BDT score fold_0\")\n",
    "plt.ylabel(\"Entries\")\n",
    "plt.legend()\n",
    "hep.cms.text(\"Preliminary\");\n",
    "hep.cms.label(data=True, year=\"2022+2023\", lumi=50, com=13.6);"
   ]
  },
  {
   "cell_type": "code",
   "execution_count": null,
   "id": "11d0eec2-900d-490d-8977-f7d019136f3c",
   "metadata": {},
   "outputs": [],
   "source": [
    "plt.figure(figsize=(15, 10))\n",
    "plt.yscale('log')\n",
    "hep.histplot(np.histogram(df[df.eval(signal_sel)][\"bdt_cv\"].to_numpy(), bins=50, range=(0,1)), density=True, histtype=\"fill\", label=\"Signal MC\", alpha=0.5, color='red');\n",
    "hep.histplot(np.histogram(df[df.eval(bkg_sel)][\"bdt_cv\"].to_numpy(), bins=50, range=(0,1)), density=True, histtype=\"fill\", label=\"Data Sidebands\", alpha=0.5, color='blue');\n",
    "plt.xlabel(\"BDT score\")\n",
    "plt.ylabel(\"Entries\")\n",
    "plt.legend()\n",
    "hep.cms.text(\"Preliminary\");\n",
    "hep.cms.label(data=True, year=\"2022+2023\", lumi=61, com=13.6);"
   ]
  },
  {
   "cell_type": "code",
   "execution_count": 9,
   "id": "b4a0d708-6ad2-45d5-afc1-1eed0fea959c",
   "metadata": {},
   "outputs": [
    {
     "ename": "NameError",
     "evalue": "name 'signal_sel' is not defined",
     "output_type": "error",
     "traceback": [
      "\u001b[0;31m---------------------------------------------------------------------------\u001b[0m",
      "\u001b[0;31mNameError\u001b[0m                                 Traceback (most recent call last)",
      "Cell \u001b[0;32mIn[9], line 3\u001b[0m\n\u001b[1;32m      1\u001b[0m plt\u001b[38;5;241m.\u001b[39mfigure(figsize\u001b[38;5;241m=\u001b[39m(\u001b[38;5;241m15\u001b[39m, \u001b[38;5;241m10\u001b[39m))\n\u001b[1;32m      2\u001b[0m plt\u001b[38;5;241m.\u001b[39myscale(\u001b[38;5;124m'\u001b[39m\u001b[38;5;124mlog\u001b[39m\u001b[38;5;124m'\u001b[39m)\n\u001b[0;32m----> 3\u001b[0m hep\u001b[38;5;241m.\u001b[39mhistplot(np\u001b[38;5;241m.\u001b[39mhistogram(df[df\u001b[38;5;241m.\u001b[39meval(\u001b[43msignal_sel\u001b[49m)][\u001b[38;5;124m\"\u001b[39m\u001b[38;5;124mbdt_cv_2\u001b[39m\u001b[38;5;124m\"\u001b[39m]\u001b[38;5;241m.\u001b[39mto_numpy(), bins\u001b[38;5;241m=\u001b[39m\u001b[38;5;241m50\u001b[39m, \u001b[38;5;28mrange\u001b[39m\u001b[38;5;241m=\u001b[39m(\u001b[38;5;241m0\u001b[39m,\u001b[38;5;241m1\u001b[39m)), density\u001b[38;5;241m=\u001b[39m\u001b[38;5;28;01mTrue\u001b[39;00m, histtype\u001b[38;5;241m=\u001b[39m\u001b[38;5;124m\"\u001b[39m\u001b[38;5;124mfill\u001b[39m\u001b[38;5;124m\"\u001b[39m, label\u001b[38;5;241m=\u001b[39m\u001b[38;5;124m\"\u001b[39m\u001b[38;5;124mSignal MC\u001b[39m\u001b[38;5;124m\"\u001b[39m, alpha\u001b[38;5;241m=\u001b[39m\u001b[38;5;241m0.5\u001b[39m, color\u001b[38;5;241m=\u001b[39m\u001b[38;5;124m'\u001b[39m\u001b[38;5;124mred\u001b[39m\u001b[38;5;124m'\u001b[39m);\n\u001b[1;32m      4\u001b[0m hep\u001b[38;5;241m.\u001b[39mhistplot(np\u001b[38;5;241m.\u001b[39mhistogram(df[df\u001b[38;5;241m.\u001b[39meval(bkg_sel)][\u001b[38;5;124m\"\u001b[39m\u001b[38;5;124mbdt_cv_2\u001b[39m\u001b[38;5;124m\"\u001b[39m]\u001b[38;5;241m.\u001b[39mto_numpy(), bins\u001b[38;5;241m=\u001b[39m\u001b[38;5;241m50\u001b[39m, \u001b[38;5;28mrange\u001b[39m\u001b[38;5;241m=\u001b[39m(\u001b[38;5;241m0\u001b[39m,\u001b[38;5;241m1\u001b[39m)), density\u001b[38;5;241m=\u001b[39m\u001b[38;5;28;01mTrue\u001b[39;00m, histtype\u001b[38;5;241m=\u001b[39m\u001b[38;5;124m\"\u001b[39m\u001b[38;5;124mfill\u001b[39m\u001b[38;5;124m\"\u001b[39m, label\u001b[38;5;241m=\u001b[39m\u001b[38;5;124m\"\u001b[39m\u001b[38;5;124mData Sidebands\u001b[39m\u001b[38;5;124m\"\u001b[39m, alpha\u001b[38;5;241m=\u001b[39m\u001b[38;5;241m0.5\u001b[39m, color\u001b[38;5;241m=\u001b[39m\u001b[38;5;124m'\u001b[39m\u001b[38;5;124mblue\u001b[39m\u001b[38;5;124m'\u001b[39m);\n\u001b[1;32m      5\u001b[0m plt\u001b[38;5;241m.\u001b[39mxlabel(\u001b[38;5;124m\"\u001b[39m\u001b[38;5;124mTransformed BDT score\u001b[39m\u001b[38;5;124m\"\u001b[39m)\n",
      "\u001b[0;31mNameError\u001b[0m: name 'signal_sel' is not defined"
     ]
    },
    {
     "data": {
      "image/png": "[encoded data removed]",
      "text/plain": [
       "<Figure size 1500x1000 with 1 Axes>"
      ]
     },
     "metadata": {},
     "output_type": "display_data"
    }
   ],
   "source": [
    "plt.figure(figsize=(15, 10))\n",
    "plt.yscale('log')\n",
    "hep.histplot(np.histogram(df[df.eval(signal_sel)][\"bdt_cv_2\"].to_numpy(), bins=50, range=(0,1)), density=True, histtype=\"fill\", label=\"Signal MC\", alpha=0.5, color='red');\n",
    "hep.histplot(np.histogram(df[df.eval(bkg_sel)][\"bdt_cv_2\"].to_numpy(), bins=50, range=(0,1)), density=True, histtype=\"fill\", label=\"Data Sidebands\", alpha=0.5, color='blue');\n",
    "plt.xlabel(\"Transformed BDT score\")\n",
    "plt.ylabel(\"Entries\")\n",
    "plt.ylim(0.5e-2, 1e2)\n",
    "plt.legend()\n",
    "hep.cms.text(\"Preliminary\");\n",
    "hep.cms.label(data=True, year=\"2022+2023\", lumi=61, com=13.6);"
   ]
  },
  {
   "cell_type": "code",
   "execution_count": null,
   "id": "f71b7d15-de14-4af1-9cb6-9f6998af89c2",
   "metadata": {},
   "outputs": [],
   "source": [
    "#feature importance\n",
    "for category_ in xgbcvclassifiers:\n",
    "    importance = []\n",
    "    for fold_ in range(kFolds):\n",
    "        # Get the booster from the xgbmodel\n",
    "        booster = xgbcvclassifiers[category_][fold_][0].get_booster()\n",
    "        booster.feature_names = training_variables\n",
    "    \n",
    "        # Get the importance dictionary (by gain) from the booster\n",
    "        importance_temp = booster.get_score(importance_type=\"gain\")\n",
    "        # make your changes\n",
    "        for key in importance_temp.keys():\n",
    "            importance_temp[key] = round(importance_temp[key],2)\n",
    "        importance.append(importance_temp)\n",
    "\n",
    "    #average importance across different folds\n",
    "    importance_avg = importance[0]\n",
    "    for key in importance_avg.keys():\n",
    "        importance_avg[key]=0\n",
    "        for fold_ in range(kFolds):\n",
    "            importance_avg[key] += importance[fold_][key]/kFolds\n",
    "        importance_avg[key] = round(importance_avg[key],2)\n",
    "    \n",
    "    # provide the importance dictionary to the plotting function\n",
    "    ax = plot_importance(importance_avg, max_num_features=30, importance_type='gain', show_values=True)\n",
    "\n",
    "    fig = ax.figure\n",
    "    fig.set_size_inches(20, 8)\n",
    "    fig.savefig(out_dir+\"/feature_importance_\"+category_+\".png\")"
   ]
  },
  {
   "cell_type": "code",
   "execution_count": null,
   "id": "ede9183a-3807-41bb-bb99-161a5ebe3398",
   "metadata": {},
   "outputs": [],
   "source": []
  }
 ],
 "metadata": {
  "kernelspec": {
   "display_name": "xgb15",
   "language": "python",
   "name": "xgb09"
  },
  "language_info": {
   "codemirror_mode": {
    "name": "ipython",
    "version": 3
   },
   "file_extension": ".py",
   "mimetype": "text/x-python",
   "name": "python",
   "nbconvert_exporter": "python",
   "pygments_lexer": "ipython3",
   "version": "3.9.19"
  }
 },
 "nbformat": 4,
 "nbformat_minor": 5
}
